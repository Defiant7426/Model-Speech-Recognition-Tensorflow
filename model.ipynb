{
 "cells": [
  {
   "cell_type": "code",
   "id": "initial_id",
   "metadata": {
    "collapsed": true,
    "ExecuteTime": {
     "end_time": "2024-08-12T04:55:44.668225Z",
     "start_time": "2024-08-12T04:55:44.664616Z"
    }
   },
   "source": [
    "import os\n",
    "import librosa # Lo usaremos para el analisis y procesamiento de audio\n",
    "from IPython.display import Audio # para poder reproducir audio dentro del notebook\n",
    "import matplotlib as plt \n",
    "import numpy as np\n",
    "from scipy.io import wavfile # para escribir o leer audios\n",
    "import warnings \n",
    "import py7zr # para comprimir descomprimir archivos"
   ],
   "outputs": [],
   "execution_count": 3
  },
  {
   "metadata": {
    "ExecuteTime": {
     "end_time": "2024-08-12T04:55:44.793029Z",
     "start_time": "2024-08-12T04:55:44.790075Z"
    }
   },
   "cell_type": "code",
   "source": "",
   "id": "e825d91c9b1fcaba",
   "outputs": [],
   "execution_count": 3
  },
  {
   "metadata": {
    "ExecuteTime": {
     "end_time": "2024-08-12T04:55:45.233308Z",
     "start_time": "2024-08-12T04:55:45.193349Z"
    }
   },
   "cell_type": "code",
   "source": [
    "from pyunpack import Archive\n",
    "\n",
    "os.makedirs(\"./data\", exist_ok= True)\n",
    "Archive(\"C:/kaggle/input/tensorflow-speech-recognition-challenge/train.7z\").extractall(\"./data\")\n",
    "\n",
    "print(\"Extraido!\")"
   ],
   "id": "c8584785593286d7",
   "outputs": [
    {
     "ename": "ValueError",
     "evalue": "patool not found! Please install patool!",
     "output_type": "error",
     "traceback": [
      "\u001B[1;31m---------------------------------------------------------------------------\u001B[0m",
      "\u001B[1;31mValueError\u001B[0m                                Traceback (most recent call last)",
      "Cell \u001B[1;32mIn[4], line 4\u001B[0m\n\u001B[0;32m      1\u001B[0m \u001B[38;5;28;01mfrom\u001B[39;00m \u001B[38;5;21;01mpyunpack\u001B[39;00m \u001B[38;5;28;01mimport\u001B[39;00m Archive\n\u001B[0;32m      3\u001B[0m os\u001B[38;5;241m.\u001B[39mmakedirs(\u001B[38;5;124m\"\u001B[39m\u001B[38;5;124m./data\u001B[39m\u001B[38;5;124m\"\u001B[39m, exist_ok\u001B[38;5;241m=\u001B[39m \u001B[38;5;28;01mTrue\u001B[39;00m)\n\u001B[1;32m----> 4\u001B[0m Archive(\u001B[38;5;124m\"\u001B[39m\u001B[38;5;124mC:/kaggle/input/tensorflow-speech-recognition-challenge/train.7z\u001B[39m\u001B[38;5;124m\"\u001B[39m)\u001B[38;5;241m.\u001B[39mextractall(\u001B[38;5;124m\"\u001B[39m\u001B[38;5;124m./data\u001B[39m\u001B[38;5;124m\"\u001B[39m)\n\u001B[0;32m      6\u001B[0m \u001B[38;5;28mprint\u001B[39m(\u001B[38;5;124m\"\u001B[39m\u001B[38;5;124mExtraido!\u001B[39m\u001B[38;5;124m\"\u001B[39m)\n",
      "File \u001B[1;32m~\\anaconda3\\Lib\\site-packages\\pyunpack\\__init__.py:113\u001B[0m, in \u001B[0;36mArchive.extractall\u001B[1;34m(self, directory, auto_create_dir, patool_path)\u001B[0m\n\u001B[0;32m    111\u001B[0m         \u001B[38;5;28mself\u001B[39m\u001B[38;5;241m.\u001B[39mextractall_zipfile(directory)\n\u001B[0;32m    112\u001B[0m     \u001B[38;5;28;01melse\u001B[39;00m:\n\u001B[1;32m--> 113\u001B[0m         \u001B[38;5;28mself\u001B[39m\u001B[38;5;241m.\u001B[39mextractall_patool(directory, patool_path)\n\u001B[0;32m    115\u001B[0m \u001B[38;5;28;01mif\u001B[39;00m \u001B[38;5;28mself\u001B[39m\u001B[38;5;241m.\u001B[39mbackend \u001B[38;5;241m==\u001B[39m \u001B[38;5;124m\"\u001B[39m\u001B[38;5;124mzipfile\u001B[39m\u001B[38;5;124m\"\u001B[39m:\n\u001B[0;32m    116\u001B[0m     \u001B[38;5;28;01mif\u001B[39;00m \u001B[38;5;129;01mnot\u001B[39;00m is_zipfile:\n",
      "File \u001B[1;32m~\\anaconda3\\Lib\\site-packages\\pyunpack\\__init__.py:58\u001B[0m, in \u001B[0;36mArchive.extractall_patool\u001B[1;34m(self, directory, patool_path)\u001B[0m\n\u001B[0;32m     56\u001B[0m     patool_path \u001B[38;5;241m=\u001B[39m _exepath(\u001B[38;5;124m\"\u001B[39m\u001B[38;5;124mpatool\u001B[39m\u001B[38;5;124m\"\u001B[39m)\n\u001B[0;32m     57\u001B[0m \u001B[38;5;28;01mif\u001B[39;00m \u001B[38;5;129;01mnot\u001B[39;00m patool_path:\n\u001B[1;32m---> 58\u001B[0m     \u001B[38;5;28;01mraise\u001B[39;00m \u001B[38;5;167;01mValueError\u001B[39;00m(\u001B[38;5;124m\"\u001B[39m\u001B[38;5;124mpatool not found! Please install patool!\u001B[39m\u001B[38;5;124m\"\u001B[39m)\n\u001B[0;32m     59\u001B[0m patool_cmd \u001B[38;5;241m=\u001B[39m [\n\u001B[0;32m     60\u001B[0m     sys\u001B[38;5;241m.\u001B[39mexecutable,\n\u001B[0;32m     61\u001B[0m     patool_path,\n\u001B[1;32m   (...)\u001B[0m\n\u001B[0;32m     66\u001B[0m     \u001B[38;5;66;03m#                     '--verbose',\u001B[39;00m\n\u001B[0;32m     67\u001B[0m ]\n\u001B[0;32m     68\u001B[0m \u001B[38;5;28;01mif\u001B[39;00m \u001B[38;5;28mself\u001B[39m\u001B[38;5;241m.\u001B[39mpassword \u001B[38;5;129;01mis\u001B[39;00m \u001B[38;5;129;01mnot\u001B[39;00m \u001B[38;5;28;01mNone\u001B[39;00m:\n",
      "\u001B[1;31mValueError\u001B[0m: patool not found! Please install patool!"
     ]
    }
   ],
   "execution_count": 4
  },
  {
   "metadata": {
    "ExecuteTime": {
     "end_time": "2024-08-12T04:25:08.761013Z",
     "start_time": "2024-08-12T04:25:08.758508Z"
    }
   },
   "cell_type": "code",
   "source": "",
   "id": "d7e65c8fccb5a314",
   "outputs": [],
   "execution_count": 10
  },
  {
   "metadata": {},
   "cell_type": "code",
   "outputs": [],
   "execution_count": null,
   "source": "",
   "id": "802476365ac7d160"
  }
 ],
 "metadata": {
  "kernelspec": {
   "display_name": "Python 3",
   "language": "python",
   "name": "python3"
  },
  "language_info": {
   "codemirror_mode": {
    "name": "ipython",
    "version": 2
   },
   "file_extension": ".py",
   "mimetype": "text/x-python",
   "name": "python",
   "nbconvert_exporter": "python",
   "pygments_lexer": "ipython2",
   "version": "2.7.6"
  }
 },
 "nbformat": 4,
 "nbformat_minor": 5
}
