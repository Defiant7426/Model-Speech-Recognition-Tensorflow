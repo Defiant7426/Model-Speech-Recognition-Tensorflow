{
 "cells": [
  {
   "cell_type": "code",
   "execution_count": null,
   "id": "initial_id",
   "metadata": {
    "collapsed": true
   },
   "outputs": [],
   "source": [
    "import librosa # Lo usaremos para el analisis y procesamiento de audio\n",
    "from IPython.display import Audio # para poder reproducir audio dentro del notebook\n",
    "import matplotlib as plt \n",
    "import numpy as np\n",
    "from scipy.io import wavfile # para escribir o leer audios\n",
    "import warnings \n",
    "import py7zr # para comprimir descomprimir archivos"
   ]
  }
 ],
 "metadata": {
  "kernelspec": {
   "display_name": "Python 3",
   "language": "python",
   "name": "python3"
  },
  "language_info": {
   "codemirror_mode": {
    "name": "ipython",
    "version": 2
   },
   "file_extension": ".py",
   "mimetype": "text/x-python",
   "name": "python",
   "nbconvert_exporter": "python",
   "pygments_lexer": "ipython2",
   "version": "2.7.6"
  }
 },
 "nbformat": 4,
 "nbformat_minor": 5
}
